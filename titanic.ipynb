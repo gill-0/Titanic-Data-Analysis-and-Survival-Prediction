{
 "cells": [
  {
   "cell_type": "markdown",
   "metadata": {},
   "source": [
    "#Titanic Survival Analysis\n",
    "##Andrew Gill\n",
    "\n",
    "I am in interested in what factors contributed to survival on the Titanic and if i can reliably predict if a passenger will survive? (> 80% success rate).\n",
    "\n",
    "To do this I will examine the data using different plots as well as summary statistics, especially the mean, for different subgroups. I will then run different machine learning algorithms to to try and achieve a good prediction rate. "
   ]
  },
  {
   "cell_type": "code",
   "execution_count": 1,
   "metadata": {
    "collapsed": false
   },
   "outputs": [
    {
     "data": {
      "text/html": [
       "<button onclick=\"jQuery('.input_area').toggle(); jQuery('.prompt').toggle();\">Toggle code</button>"
      ]
     },
     "metadata": {},
     "output_type": "display_data"
    }
   ],
   "source": [
    "import IPython.core.display as di\n",
    "#code for this button is taken from a website\n",
    "#source is included in sources textfile\n",
    "# This line will hide code by default when the notebook is exported as HTML\n",
    "#di.display_html('<script>jQuery(function() {if (jQuery(\"body.notebook_app\").length == 0) { jQuery(\".input_area\").toggle(); jQuery(\".prompt\").toggle();}});</script>', raw=True)\n",
    "\n",
    "# This line will add a button to toggle visibility of code blocks, for use with the HTML export version\n",
    "di.display_html('''<button onclick=\"jQuery('.input_area').toggle(); jQuery('.prompt').toggle();\">Toggle code</button>''', raw=True)\n"
   ]
  },
  {
   "cell_type": "code",
   "execution_count": 2,
   "metadata": {
    "collapsed": true
   },
   "outputs": [],
   "source": [
    "import pandas as pd\n",
    "import numpy as np\n",
    "import pprint\n",
    "\n",
    "titanic_df = pd.read_csv('titanic_data.csv')"
   ]
  },
  {
   "cell_type": "markdown",
   "metadata": {},
   "source": [
    "###General Structure of Data"
   ]
  },
  {
   "cell_type": "code",
   "execution_count": 3,
   "metadata": {
    "collapsed": false
   },
   "outputs": [
    {
     "name": "stdout",
     "output_type": "stream",
     "text": [
      "   PassengerId  Survived  Pclass  \\\n",
      "0            1         0       3   \n",
      "1            2         1       1   \n",
      "2            3         1       3   \n",
      "3            4         1       1   \n",
      "4            5         0       3   \n",
      "\n",
      "                                                Name     Sex   Age  SibSp  \\\n",
      "0                            Braund, Mr. Owen Harris    male  22.0      1   \n",
      "1  Cumings, Mrs. John Bradley (Florence Briggs Th...  female  38.0      1   \n",
      "2                             Heikkinen, Miss. Laina  female  26.0      0   \n",
      "3       Futrelle, Mrs. Jacques Heath (Lily May Peel)  female  35.0      1   \n",
      "4                           Allen, Mr. William Henry    male  35.0      0   \n",
      "\n",
      "   Parch            Ticket     Fare Cabin Embarked  \n",
      "0      0         A/5 21171   7.2500   NaN        S  \n",
      "1      0          PC 17599  71.2833   C85        C  \n",
      "2      0  STON/O2. 3101282   7.9250   NaN        S  \n",
      "3      0            113803  53.1000  C123        S  \n",
      "4      0            373450   8.0500   NaN        S  \n"
     ]
    }
   ],
   "source": [
    "pprint.pprint(titanic_df.head())"
   ]
  },
  {
   "cell_type": "markdown",
   "metadata": {},
   "source": [
    "###Type of Data Contained in Dataframe"
   ]
  },
  {
   "cell_type": "code",
   "execution_count": 4,
   "metadata": {
    "collapsed": false
   },
   "outputs": [
    {
     "name": "stdout",
     "output_type": "stream",
     "text": [
      "PassengerId int64\n",
      "Survived int64\n",
      "Pclass int64\n",
      "Name object\n",
      "Sex object\n",
      "Age float64\n",
      "SibSp int64\n",
      "Parch int64\n",
      "Ticket object\n",
      "Fare float64\n",
      "Cabin object\n",
      "Embarked object\n"
     ]
    }
   ],
   "source": [
    "for col in titanic_df:\n",
    "   print col, titanic_df[col].dtypes"
   ]
  },
  {
   "cell_type": "code",
   "execution_count": 5,
   "metadata": {
    "collapsed": false
   },
   "outputs": [],
   "source": [
    "#helper functions to transform data later on.\n",
    "def convert_survivor(survived):\n",
    "    if survived == 1:\n",
    "        return \"YES\"\n",
    "    else:\n",
    "        return \"NO\""
   ]
  },
  {
   "cell_type": "code",
   "execution_count": 6,
   "metadata": {
    "collapsed": false
   },
   "outputs": [],
   "source": [
    "#create copy of df to work with, if I just set the new df = to titanic_df \n",
    "#it will create a deep_copy and values\n",
    "#changed in one will affect the values changed in another. \n",
    "clean_titanic_df = titanic_df.copy() "
   ]
  },
  {
   "cell_type": "code",
   "execution_count": 7,
   "metadata": {
    "collapsed": false
   },
   "outputs": [],
   "source": [
    "#Will use the Alive column in graphs\n",
    "#so it is easier to interpret than 1 and 0 for Survived\n",
    "clean_titanic_df['Alive'] = clean_titanic_df['Survived'].apply(convert_survivor)\n",
    "# check modification\n",
    "#pprint.pprint(clean_titanic_df.head())"
   ]
  },
  {
   "cell_type": "markdown",
   "metadata": {},
   "source": [
    "###Descriptive Statistics about the Survival Rate"
   ]
  },
  {
   "cell_type": "code",
   "execution_count": 8,
   "metadata": {
    "collapsed": false
   },
   "outputs": [
    {
     "data": {
      "text/plain": [
       "count    891.000000\n",
       "mean       0.383838\n",
       "std        0.486592\n",
       "min        0.000000\n",
       "25%        0.000000\n",
       "50%        0.000000\n",
       "75%        1.000000\n",
       "max        1.000000\n",
       "Name: Survived, dtype: float64"
      ]
     },
     "execution_count": 8,
     "metadata": {},
     "output_type": "execute_result"
    }
   ],
   "source": [
    "clean_titanic_df['Survived'].describe()"
   ]
  },
  {
   "cell_type": "markdown",
   "metadata": {
    "collapsed": false
   },
   "source": [
    "The General Survival rate is only 38.38%. Chances of survival overall are not very good. Different subgroups within the population probably have very different survival rates, such as women and children having better chances. I will explore different demographic groups later."
   ]
  },
  {
   "cell_type": "code",
   "execution_count": 9,
   "metadata": {
    "collapsed": false,
    "scrolled": true
   },
   "outputs": [],
   "source": [
    "%matplotlib inline\n",
    "import matplotlib.pyplot as plt\n",
    "import seaborn as sns"
   ]
  },
  {
   "cell_type": "markdown",
   "metadata": {},
   "source": [
    "#Feature Exploration"
   ]
  },
  {
   "cell_type": "markdown",
   "metadata": {},
   "source": [
    "The variables I would expect to be most important are Sex, Age, and socioeconomic class. Will examine the general distribution of these features next. I will look at the distribution of sexes first. "
   ]
  },
  {
   "cell_type": "markdown",
   "metadata": {},
   "source": [
    "###Distribution of Sex"
   ]
  },
  {
   "cell_type": "code",
   "execution_count": 10,
   "metadata": {
    "collapsed": false
   },
   "outputs": [
    {
     "data": {
      "text/plain": [
       "<matplotlib.text.Text at 0xa97b7b8>"
      ]
     },
     "execution_count": 10,
     "metadata": {},
     "output_type": "execute_result"
    },
    {
     "data": {
      "image/png": "[encoded data removed]",
      "text/plain": [
       "<matplotlib.figure.Figure at 0xa8ba208>"
      ]
     },
     "metadata": {},
     "output_type": "display_data"
    }
   ],
   "source": [
    "sns.countplot(titanic_df['Sex'])\n",
    "plt.title(\"Number of Males vs Females\")"
   ]
  },
  {
   "cell_type": "markdown",
   "metadata": {},
   "source": [
    "There are almost twice as many males as females on board."
   ]
  },
  {
   "cell_type": "markdown",
   "metadata": {},
   "source": [
    "###Age Distribution"
   ]
  },
  {
   "cell_type": "markdown",
   "metadata": {},
   "source": [
    "I examined ages in two different ways. One graph is a histogram, while in the other I grouped ages into groups based a Pew Research Center article. "
   ]
  },
  {
   "cell_type": "code",
   "execution_count": 11,
   "metadata": {
    "collapsed": false
   },
   "outputs": [],
   "source": [
    "#print clean_titanic_df['Age'].head(10)\n",
    "#create another dataframe so that age can be analyzed by dropping Nan values \n",
    "#without affecting other columns\n",
    "clean_titanic_2 = clean_titanic_df.copy()[np.isfinite(clean_titanic_df[\"Age\"])]\n",
    "#line below is used to convert nan values in Age to the no_age group.\n",
    "clean_titanic_df['Age'] = clean_titanic_df['Age'].fillna(0)\n",
    "#clean_titanic_df['Age'].head(10)\n",
    "age_bins = [0,0.001,13,18,50,66,100]\n",
    "age_cat = [\"No_Age\",\"0-12\",\"13-17\",\"18-49\",\"50-64\",\"65+\"]\n",
    "clean_titanic_df['Age_Group'] = pd.cut(clean_titanic_df['Age'], \n",
    "                                       bins =age_bins,right=False, labels=age_cat )\n"
   ]
  },
  {
   "cell_type": "code",
   "execution_count": 12,
   "metadata": {
    "collapsed": false
   },
   "outputs": [
    {
     "data": {
      "text/plain": [
       "<matplotlib.text.Text at 0xd8ae0b8>"
      ]
     },
     "execution_count": 12,
     "metadata": {},
     "output_type": "execute_result"
    },
    {
     "data": {
      "image/png": "[encoded data removed]",
      "text/plain": [
       "<matplotlib.figure.Figure at 0xa947780>"
      ]
     },
     "metadata": {},
     "output_type": "display_data"
    }
   ],
   "source": [
    "\n",
    "\n",
    "fig = plt.figure(figsize=(18,12))\n",
    "fig.add_subplot(221)\n",
    "a1 = sns.distplot(clean_titanic_2['Age'], kde = False, rug=True)\n",
    "plt.ylabel(\"Number of Persons\")\n",
    "plt.title(\"Distribution of Age\")\n",
    "\n",
    "fig.add_subplot(222)\n",
    "a2 = sns.countplot(x = clean_titanic_df['Age_Group'], order= [\"0-12\", \"13-17\", \"18-49\", \"50-64\", \"65+\", 'No_Age'])\n",
    "plt.ylabel(\"Number of Persons\")\n",
    "plt.title(\"Number of Person in each Age Group\")\n"
   ]
  },
  {
   "cell_type": "markdown",
   "metadata": {
    "collapsed": false,
    "scrolled": true
   },
   "source": [
    "The Age Group graph is more informative of the overall age distribution. Most passengers are in the 18-49 age group. Another significant amount are in the No_age group possibly because the passengers died and their age was unknown."
   ]
  },
  {
   "cell_type": "markdown",
   "metadata": {},
   "source": [
    "I am interested in seeing how the distribution of age differs by sex."
   ]
  },
  {
   "cell_type": "markdown",
   "metadata": {},
   "source": [
    "###Age Distribution by Sex"
   ]
  },
  {
   "cell_type": "code",
   "execution_count": 13,
   "metadata": {
    "collapsed": false
   },
   "outputs": [
    {
     "data": {
      "text/plain": [
       "<matplotlib.text.Text at 0xdbfc0f0>"
      ]
     },
     "execution_count": 13,
     "metadata": {},
     "output_type": "execute_result"
    },
    {
     "data": {
      "image/png": "[encoded data removed]",
      "text/plain": [
       "<matplotlib.figure.Figure at 0xacfd1d0>"
      ]
     },
     "metadata": {},
     "output_type": "display_data"
    }
   ],
   "source": [
    "sns.boxplot(y=\"Age\", x=\"Sex\", data=clean_titanic_2)\n",
    "plt.title(\"Distribution of Age for Males vs Females\")"
   ]
  },
  {
   "cell_type": "markdown",
   "metadata": {},
   "source": [
    "The distribution of age for men and women is largely the same. The median age for men is slightly higher and there are also some male outliers above the age of 70. "
   ]
  },
  {
   "cell_type": "markdown",
   "metadata": {},
   "source": [
    "###Fare Distribution"
   ]
  },
  {
   "cell_type": "code",
   "execution_count": 14,
   "metadata": {
    "collapsed": false
   },
   "outputs": [
    {
     "data": {
      "text/plain": [
       "count    891.000000\n",
       "mean      32.204208\n",
       "std       49.693429\n",
       "min        0.000000\n",
       "25%        7.910400\n",
       "50%       14.454200\n",
       "75%       31.000000\n",
       "max      512.329200\n",
       "Name: Fare, dtype: float64"
      ]
     },
     "execution_count": 14,
     "metadata": {},
     "output_type": "execute_result"
    },
    {
     "data": {
      "image/png": "[encoded data removed]",
      "text/plain": [
       "<matplotlib.figure.Figure at 0xd9787b8>"
      ]
     },
     "metadata": {},
     "output_type": "display_data"
    }
   ],
   "source": [
    "#Fare graph with limits on the x-axis. There are some very high outliers not shown that skew the graph. Upwards of 500 for Fare..\n",
    "f1 = sns.distplot(clean_titanic_df['Fare'], kde = False, rug=True)\n",
    "f1.set(xlim=(0, 100))\n",
    "plt.ylabel(\"Number of Persons\")\n",
    "plt.xlabel(\"Fare($)\")\n",
    "plt.title(\"Distribution of Fares\")\n",
    "\n",
    "clean_titanic_df['Fare'].describe()"
   ]
  },
  {
   "cell_type": "markdown",
   "metadata": {},
   "source": [
    "I think it may be better to think about the number of persons in each socioeconomic class instead of the fares they paid. "
   ]
  },
  {
   "cell_type": "code",
   "execution_count": 15,
   "metadata": {
    "collapsed": false
   },
   "outputs": [
    {
     "data": {
      "text/plain": [
       "<matplotlib.text.Text at 0x115fd5f8>"
      ]
     },
     "execution_count": 15,
     "metadata": {},
     "output_type": "execute_result"
    },
    {
     "data": {
      "image/png": "[encoded data removed]",
      "text/plain": [
       "<matplotlib.figure.Figure at 0xa963a20>"
      ]
     },
     "metadata": {},
     "output_type": "display_data"
    }
   ],
   "source": [
    "sns.countplot(x = clean_titanic_df['Pclass'], palette = \"Set3\")\n",
    "plt.title(\"Number of Persons in Each Class\")"
   ]
  },
  {
   "cell_type": "markdown",
   "metadata": {},
   "source": [
    "The Pclass or socioeconomics class gives a much cleaner representation of a passenger's wealth and is most likely highly correlated with Fare price. The majority of passengers are third class. "
   ]
  },
  {
   "cell_type": "markdown",
   "metadata": {},
   "source": [
    "Interested in how class differers based on port of embarkation. "
   ]
  },
  {
   "cell_type": "markdown",
   "metadata": {},
   "source": [
    "###Number of Persons in Each Class by Port of Embarkation"
   ]
  },
  {
   "cell_type": "code",
   "execution_count": 16,
   "metadata": {
    "collapsed": false
   },
   "outputs": [
    {
     "data": {
      "text/plain": [
       "<matplotlib.text.Text at 0x115e2860>"
      ]
     },
     "execution_count": 16,
     "metadata": {},
     "output_type": "execute_result"
    },
    {
     "data": {
      "image/png": "[encoded data removed]",
      "text/plain": [
       "<matplotlib.figure.Figure at 0xdcf6eb8>"
      ]
     },
     "metadata": {},
     "output_type": "display_data"
    }
   ],
   "source": [
    "#Port(C = Cherbourg; Q = Queenstown; S = Southampton)\n",
    "sns.countplot(x = clean_titanic_df['Embarked'], hue=clean_titanic_df[\"Pclass\"], palette = \"Set3\")\n",
    "plt.title(\"Number of Persons in Each Class by Port of Embarkation\")"
   ]
  },
  {
   "cell_type": "markdown",
   "metadata": {},
   "source": [
    "Most passengers embarked from Southampton. Also of note is that almost all passengers from Queenstown are third class. Port of embarkation will most likely not be useful in prediction of survival rates."
   ]
  },
  {
   "cell_type": "markdown",
   "metadata": {},
   "source": [
    "#Feature Exploration with Respect to Survival"
   ]
  },
  {
   "cell_type": "markdown",
   "metadata": {},
   "source": [
    "###Survival Rate vs Sex"
   ]
  },
  {
   "cell_type": "code",
   "execution_count": 17,
   "metadata": {
    "collapsed": false
   },
   "outputs": [
    {
     "name": "stdout",
     "output_type": "stream",
     "text": [
      "Sex\n",
      "female    0.742038\n",
      "male      0.188908\n",
      "Name: Survived, dtype: float64\n"
     ]
    },
    {
     "data": {
      "text/plain": [
       "<matplotlib.text.Text at 0x11933fd0>"
      ]
     },
     "execution_count": 17,
     "metadata": {},
     "output_type": "execute_result"
    },
    {
     "data": {
      "image/png": "[encoded data removed]",
      "text/plain": [
       "<matplotlib.figure.Figure at 0x115ec198>"
      ]
     },
     "metadata": {},
     "output_type": "display_data"
    }
   ],
   "source": [
    "bySex = titanic_df.groupby('Sex')\n",
    "print bySex['Survived'].mean()\n",
    "sns.countplot(titanic_df['Sex'], hue = clean_titanic_df['Alive'], palette = [\"#95a5a6\", \"#2ecc71\"])\n",
    "plt.title(\"Number of Persons Alive by Sex\")"
   ]
  },
  {
   "cell_type": "markdown",
   "metadata": {},
   "source": [
    "Striking difference between female and male survival rates. 74% (Female) vs 18.8% (Male)"
   ]
  },
  {
   "cell_type": "markdown",
   "metadata": {},
   "source": [
    "###Survival Rate by Age Group"
   ]
  },
  {
   "cell_type": "code",
   "execution_count": 18,
   "metadata": {
    "collapsed": false
   },
   "outputs": [
    {
     "name": "stdout",
     "output_type": "stream",
     "text": [
      "Age_Group\n",
      "No_Age    0.293785\n",
      "0-12      0.579710\n",
      "13-17     0.477273\n",
      "18-49     0.383302\n",
      "50-64     0.393939\n",
      "65+       0.125000\n",
      "Name: Survived, dtype: float64\n"
     ]
    },
    {
     "data": {
      "text/plain": [
       "<matplotlib.text.Text at 0x11c5f550>"
      ]
     },
     "execution_count": 18,
     "metadata": {},
     "output_type": "execute_result"
    },
    {
     "data": {
      "image/png": "[encoded data removed]",
      "text/plain": [
       "<matplotlib.figure.Figure at 0x1191c860>"
      ]
     },
     "metadata": {},
     "output_type": "display_data"
    }
   ],
   "source": [
    "byAge_Group = clean_titanic_df.groupby('Age_Group')\n",
    "print byAge_Group['Survived'].mean()\n",
    "a2 = sns.countplot(x = clean_titanic_df['Age_Group'], \n",
    "                   order= [\"0-12\", \"13-17\", \"18-49\", \"50-64\", \"65+\", 'No_Age'],\n",
    "                   hue=clean_titanic_df['Alive'],\n",
    "                   palette = [\"#95a5a6\", \"#2ecc71\"])\n",
    "plt.title(\"Number of Persons Alive by Age Group\")"
   ]
  },
  {
   "cell_type": "markdown",
   "metadata": {},
   "source": [
    "Children 0-12 and 13-17 also have a much higher survival rate then the rest of teh population. Those that are very elderly (65+) may not have been able to survive the elements thus explaining their low survival rates. Those with no age also have a below average survival rate. This may point towards the suspicion that many have no age listed because they died during the Titanic disaster."
   ]
  },
  {
   "cell_type": "markdown",
   "metadata": {},
   "source": [
    "###Survival Rate by Class"
   ]
  },
  {
   "cell_type": "code",
   "execution_count": 19,
   "metadata": {
    "collapsed": false
   },
   "outputs": [
    {
     "name": "stdout",
     "output_type": "stream",
     "text": [
      "Pclass\n",
      "1    0.629630\n",
      "2    0.472826\n",
      "3    0.242363\n",
      "Name: Survived, dtype: float64\n"
     ]
    },
    {
     "data": {
      "text/plain": [
       "<matplotlib.text.Text at 0x120867b8>"
      ]
     },
     "execution_count": 19,
     "metadata": {},
     "output_type": "execute_result"
    },
    {
     "data": {
      "image/png": "[encoded data removed]",
      "text/plain": [
       "<matplotlib.figure.Figure at 0x11c53518>"
      ]
     },
     "metadata": {},
     "output_type": "display_data"
    }
   ],
   "source": [
    "byPclass = titanic_df.groupby('Pclass')\n",
    "print byPclass['Survived'].mean()\n",
    "c1 = sns.countplot(x = clean_titanic_df['Pclass'], \n",
    "                   hue=clean_titanic_df[\"Alive\"],\n",
    "                   palette = [\"#95a5a6\", \"#2ecc71\"])\n",
    "plt.title(\"Number of Persons Alive by Class\")"
   ]
  },
  {
   "cell_type": "markdown",
   "metadata": {},
   "source": [
    "Those in third class have by far the worst survival rate. While 1st class passengers faired even better than 2nd class.\n",
    "Suggesting that socio-economic status matters alot for survival. "
   ]
  },
  {
   "cell_type": "markdown",
   "metadata": {},
   "source": [
    "#Exploring Survival Rates with Multiple Features"
   ]
  },
  {
   "cell_type": "markdown",
   "metadata": {},
   "source": [
    "###Survival Rate by Class and Sex"
   ]
  },
  {
   "cell_type": "code",
   "execution_count": 20,
   "metadata": {
    "collapsed": false
   },
   "outputs": [
    {
     "data": {
      "text/plain": [
       "<matplotlib.text.Text at 0x11b9abe0>"
      ]
     },
     "execution_count": 20,
     "metadata": {},
     "output_type": "execute_result"
    },
    {
     "data": {
      "image/png": "[encoded data removed]",
      "text/plain": [
       "<matplotlib.figure.Figure at 0xa963400>"
      ]
     },
     "metadata": {},
     "output_type": "display_data"
    }
   ],
   "source": [
    "sns.barplot(x=\"Sex\", y=\"Survived\", hue = \"Pclass\", data= clean_titanic_df)\n",
    "plt.title(\"Survival Rate by Sex and Class\")\n",
    "plt.ylabel(\"Survival Rate\")"
   ]
  },
  {
   "cell_type": "markdown",
   "metadata": {},
   "source": [
    "Women of the first and second class have an extremely high survival rate. Whereas women with a third class ticket have a survival rate that is significantly lower. Even though women with a third class ticket have a survival rate that is higher than men in first class, their 95% confidence intervals overlap. It is therefore possible that men in first class potentially have a true survival rate that is higher than women in third class. "
   ]
  },
  {
   "cell_type": "markdown",
   "metadata": {},
   "source": [
    "###Survival Rate by Class and Age Category\n",
    "I used child to denote someone less than 13. I think this may be a more appropiate way to classify differences of age rather than looking at age as a continous variable or with more age categories as I had analyzed before. "
   ]
  },
  {
   "cell_type": "code",
   "execution_count": 21,
   "metadata": {
    "collapsed": false
   },
   "outputs": [
    {
     "data": {
      "text/plain": [
       "<matplotlib.text.Text at 0x123a2a20>"
      ]
     },
     "execution_count": 21,
     "metadata": {},
     "output_type": "execute_result"
    },
    {
     "data": {
      "image/png": "[encoded data removed]",
      "text/plain": [
       "<matplotlib.figure.Figure at 0x115aa5f8>"
      ]
     },
     "metadata": {},
     "output_type": "display_data"
    }
   ],
   "source": [
    "clean_titanic_df[\"Age_Category\"] = clean_titanic_df[\"Age\"].apply(lambda x: \"Child\" if (x > 0 and x < 13) else \"Adult\")\n",
    "sns.barplot(x=\"Age_Category\", y=\"Survived\", hue = \"Sex\", data= clean_titanic_df)\n",
    "plt.title(\"Survival Rate by Sex and Age Category\")\n",
    "plt.ylabel(\"Survival Rate\")"
   ]
  },
  {
   "cell_type": "markdown",
   "metadata": {},
   "source": [
    "Boys have a much higher survival rate then men. Although girls have a lower survival rate then women, both sexes of children have a large 95% confidence interval due to their small sample sizes. It is therefore possible that girls' survival rate is much closer to women's. "
   ]
  },
  {
   "cell_type": "code",
   "execution_count": 22,
   "metadata": {
    "collapsed": false
   },
   "outputs": [
    {
     "data": {
      "text/plain": [
       "<matplotlib.text.Text at 0x123b5e48>"
      ]
     },
     "execution_count": 22,
     "metadata": {},
     "output_type": "execute_result"
    },
    {
     "data": {
      "image/png": "[encoded data removed]",
      "text/plain": [
       "<matplotlib.figure.Figure at 0x11a7de10>"
      ]
     },
     "metadata": {},
     "output_type": "display_data"
    }
   ],
   "source": [
    "sns.barplot(x=\"Age_Category\", y=\"Survived\", hue = \"Pclass\", data= clean_titanic_df)\n",
    "plt.title(\"Survival Rate for Class and Age Category\")\n",
    "plt.ylabel(\"Survival Rate\")"
   ]
  },
  {
   "cell_type": "markdown",
   "metadata": {},
   "source": [
    "All children with second class tickets survived. Overall, children are better off than adults controlling for class, but adults in first class have a higher survival rate than children in third. The confidence intervals for children are again very large due to small sample sizes. "
   ]
  },
  {
   "cell_type": "markdown",
   "metadata": {},
   "source": [
    "#Summary of Analysis so Far"
   ]
  },
  {
   "cell_type": "markdown",
   "metadata": {},
   "source": [
    "It appears that Sex, Age, and SES do indeed matter for survival. However we can not make any definitive conclusions as to their correlation with Survival because statistical tests have not been run. Next I will run various machine learning classifiers with different feature combinations to see if I can predict passenger survival rates with >80% success rate."
   ]
  },
  {
   "cell_type": "markdown",
   "metadata": {},
   "source": [
    "#Predicting Survival of Passengers"
   ]
  },
  {
   "cell_type": "code",
   "execution_count": 34,
   "metadata": {
    "collapsed": false
   },
   "outputs": [],
   "source": [
    "from time import time\n",
    "from sklearn.naive_bayes import GaussianNB\n",
    "from sklearn.metrics import accuracy_score\n",
    "from sklearn.cross_validation import train_test_split\n",
    "from sklearn.tree import DecisionTreeClassifier\n",
    "from sklearn import svm\n",
    "from sklearn.preprocessing import LabelEncoder\n",
    "from sklearn.pipeline import Pipeline\n",
    "from sklearn.feature_selection import SelectKBest\n",
    "from sklearn.ensemble import AdaBoostClassifier"
   ]
  },
  {
   "cell_type": "code",
   "execution_count": 24,
   "metadata": {
    "collapsed": false
   },
   "outputs": [],
   "source": [
    "#functions to be used during machine learning classification\n",
    "def fit_predict(classifier, features, n=\"all\"):\n",
    "    #input: ML classifier and dataframe containing relevant features\n",
    "    #output - prints accuracy score of classifier and returns the pipeline object.\n",
    "    features_train, features_test, labels_train, labels_test = train_test_split(features, labels, test_size =.2, random_state = 40)\n",
    "    pipe = Pipeline([(\"selector\", SelectKBest(k=n)),\n",
    "                     (\"clf\", classifier)])\n",
    "    pipe.fit(features_train, labels_train)\n",
    "    pred = pipe.predict(features_test)\n",
    "    acc = accuracy_score(labels_test, pred)\n",
    "    print \"Accuracy Score:\" ,acc\n",
    "    return pipe\n",
    "\n",
    "def plot_f_score(features):\n",
    "    #plots feature scores for decision tree classifier\n",
    "    feats = features.columns\n",
    "    feature_scores = []\n",
    "    scores = pipe.named_steps['selector'].scores_\n",
    "    for i, x in enumerate(feats):\n",
    "        feature_scores.append((feats[i], scores[i]))\n",
    "    feature_scores = sorted(feature_scores, key=lambda feat_score: feat_score[1], reverse = True)\n",
    "    feature_scores = pd.DataFrame(feature_scores, columns=[\"Features\", \"Scores\"])\n",
    "    feat_score_plot = sns.barplot(x=feature_scores[\"Features\"], y=feature_scores[\"Scores\"], color='b')\n",
    "    plt.setp(feat_score_plot.get_xticklabels(), rotation=90)\n",
    "    plt.ylabel(\"F-Score\")\n",
    "    plt.title(\"F-Score for Each Feature\")\n",
    "    plt.tight_layout()\n",
    "    plt.show()\n",
    "    \n",
    "def get_importances(features):\n",
    "    #gets the importances for a decision tree classifier when using a pipeline\n",
    "    importances = pipe.named_steps['clf'].feature_importances_\n",
    "    for i, imp in enumerate(importances):\n",
    "           print (i, features.columns[i], imp)"
   ]
  },
  {
   "cell_type": "markdown",
   "metadata": {},
   "source": [
    "###Feature Creation and Extraction\n",
    "I dropped the cabin number since there were so many missing values for that feature. I also dropped features that did not make any sense for classification, such as name. \n",
    "I also created dummy variables for the port of embarkation as well as reusing the child feature I created earlier. "
   ]
  },
  {
   "cell_type": "code",
   "execution_count": 25,
   "metadata": {
    "collapsed": false
   },
   "outputs": [],
   "source": [
    "labels = clean_titanic_df[\"Survived\"] \n",
    "features = clean_titanic_df.loc[:,('Pclass', \"Age\",\"Sex\", 'SibSp', 'Parch', 'Fare',)]\n",
    "#pprint.pprint(titanic.head(10))\n",
    "features[\"Age\"].replace(to_replace=0.0, value=features[\"Age\"].median(), inplace=True)\n",
    "features[\"Sex\"] = LabelEncoder().fit_transform(features['Sex'])\n",
    "#age probably isnt as important as if someone was a child or not. \n",
    "features[\"Child\"] = features[\"Age\"].apply(lambda x: 1 if x < 13 else 0)\n",
    "#female: 0,  male: 1\n",
    "#This takes care of of two NaN values for embarked as 0 will be used for all 3 dummy values\n",
    "dummy = pd.get_dummies(clean_titanic_df['Embarked'], prefix=\"Embarked\" )\n",
    "features = features.join(dummy)\n",
    "#pprint.pprint(features.head(10))"
   ]
  },
  {
   "cell_type": "markdown",
   "metadata": {},
   "source": [
    "##Feature Selection with Decision Tree Classifier\n",
    "I initially ran the classifier with all relevant features to understand which features contributed the most to classification. "
   ]
  },
  {
   "cell_type": "code",
   "execution_count": 26,
   "metadata": {
    "collapsed": false
   },
   "outputs": [
    {
     "name": "stdout",
     "output_type": "stream",
     "text": [
      "Accuracy Score: 0.798882681564\n"
     ]
    }
   ],
   "source": [
    "pipe = fit_predict(DecisionTreeClassifier(random_state=61), features)"
   ]
  },
  {
   "cell_type": "markdown",
   "metadata": {},
   "source": [
    "The initial accuracy is .799, which is rather good. "
   ]
  },
  {
   "cell_type": "markdown",
   "metadata": {},
   "source": [
    "I will use the F-Score of each feature as well as the feature importances from the decision tree to decide which features to remove."
   ]
  },
  {
   "cell_type": "markdown",
   "metadata": {},
   "source": [
    "###F-Score for Each Feature"
   ]
  },
  {
   "cell_type": "code",
   "execution_count": 27,
   "metadata": {
    "collapsed": false
   },
   "outputs": [
    {
     "data": {
      "image/png": "[encoded data removed]",
      "text/plain": [
       "<matplotlib.figure.Figure at 0x12eee940>"
      ]
     },
     "metadata": {},
     "output_type": "display_data"
    }
   ],
   "source": [
    "plot_f_score(features)"
   ]
  },
  {
   "cell_type": "markdown",
   "metadata": {},
   "source": [
    "Sex, Pclass, and Fare have the highest F-Scores. The F-Score is helpful so I know how important features are independent of one another, but I will mainly be using the feature importances for feature selection. "
   ]
  },
  {
   "cell_type": "markdown",
   "metadata": {},
   "source": [
    "###Feature Importances"
   ]
  },
  {
   "cell_type": "code",
   "execution_count": 28,
   "metadata": {
    "collapsed": false
   },
   "outputs": [
    {
     "name": "stdout",
     "output_type": "stream",
     "text": [
      "(0, 'Pclass', 0.10966780160755987)\n",
      "(1, 'Age', 0.22046409074233672)\n",
      "(2, 'Sex', 0.29223072854445914)\n",
      "(3, 'SibSp', 0.080145474143123285)\n",
      "(4, 'Parch', 0.038296389646793119)\n",
      "(5, 'Fare', 0.24787634561252023)\n",
      "(6, 'Child', 0.0)\n",
      "(7, 'Embarked_C', 0.0024645221160821654)\n",
      "(8, 'Embarked_Q', 0.0066571497717165988)\n",
      "(9, 'Embarked_S', 0.002197497815408836)\n"
     ]
    }
   ],
   "source": [
    "get_importances(features)"
   ]
  },
  {
   "cell_type": "markdown",
   "metadata": {
    "collapsed": false
   },
   "source": [
    "I will run the classifier again with Sex, Pclass, Fare, Age, and SibSp due to those having the highest feature importances. Surprisingly child has a  feature importance of 0 due to that information being captured by the age feature. "
   ]
  },
  {
   "cell_type": "code",
   "execution_count": 29,
   "metadata": {
    "collapsed": false
   },
   "outputs": [
    {
     "name": "stdout",
     "output_type": "stream",
     "text": [
      "Accuracy Score: 0.837988826816\n",
      "--------------------------------------------------\n",
      "(0, 'Sex', 0.29341771873696065)\n",
      "(1, 'Pclass', 0.1120125396330017)\n",
      "(2, 'Fare', 0.26487638350440262)\n",
      "(3, 'Age', 0.25620794771235339)\n",
      "(4, 'SibSp', 0.073485410413281646)\n"
     ]
    }
   ],
   "source": [
    "feat_main = features.loc[:,(\"Sex\", \"Pclass\", \"Fare\", \"Age\", \"SibSp\")]\n",
    "pipe = fit_predict(DecisionTreeClassifier(random_state=61), feat_main)\n",
    "print '-' * 50\n",
    "get_importances(feat_main)"
   ]
  },
  {
   "cell_type": "markdown",
   "metadata": {},
   "source": [
    "Dropping the unimportant features has increased the accuracy by a few percentage points. "
   ]
  },
  {
   "cell_type": "markdown",
   "metadata": {},
   "source": [
    "Since Fare and Pclass convey much of the same information. I am interested if the performance will stay the same if I drop one of them. I will also experiment dropping SibSp since it has the lowest feature importance. (SibSp indicates the combined number of siblings and spouses on board.)"
   ]
  },
  {
   "cell_type": "code",
   "execution_count": 30,
   "metadata": {
    "collapsed": true
   },
   "outputs": [],
   "source": [
    "def remove_feats(drop_list, features_list): \n",
    "    for feat in drop_list: \n",
    "        temp_list = features_list[:]\n",
    "        temp_list.remove(feat)\n",
    "        feat_df = features.loc[:,temp_list]\n",
    "        print \"Dropping \", feat\n",
    "        pipe = fit_predict(DecisionTreeClassifier(random_state=61), feat_df)\n",
    "        print \"-\" * 25"
   ]
  },
  {
   "cell_type": "code",
   "execution_count": 31,
   "metadata": {
    "collapsed": false
   },
   "outputs": [
    {
     "name": "stdout",
     "output_type": "stream",
     "text": [
      "Dropping  Pclass\n",
      "Accuracy Score: 0.765363128492\n",
      "-------------------------\n",
      "Dropping  Fare\n",
      "Accuracy Score: 0.782122905028\n",
      "-------------------------\n",
      "Dropping  SibSp\n",
      "Accuracy Score: 0.815642458101\n",
      "-------------------------\n"
     ]
    }
   ],
   "source": [
    "drop_list = [\"Pclass\", \"Fare\", \"SibSp\"]\n",
    "features_list = [\"Sex\", \"Pclass\", \"Fare\", \"Age\", \"SibSp\"]\n",
    "remove_feats(drop_list, features_list)"
   ]
  },
  {
   "cell_type": "markdown",
   "metadata": {},
   "source": [
    "Dropping Pclass and Fare both hurt accuracy as would be expected since they both have decent feature importances, even though they convey similar information . Dropping SibSp also decreases performance so I will retain all of these features. "
   ]
  },
  {
   "cell_type": "markdown",
   "metadata": {},
   "source": [
    "#Selecting a Classifier\n",
    "I would like to test some other classifiers to see if I can increase the performance further. Currently the best performance is an accuracy score of .838. "
   ]
  },
  {
   "cell_type": "markdown",
   "metadata": {},
   "source": [
    "###Naive Bayes"
   ]
  },
  {
   "cell_type": "code",
   "execution_count": 32,
   "metadata": {
    "collapsed": false
   },
   "outputs": [
    {
     "name": "stdout",
     "output_type": "stream",
     "text": [
      "Accuracy Score: 0.815642458101\n"
     ]
    }
   ],
   "source": [
    "pipe = fit_predict(GaussianNB(), feat_main)"
   ]
  },
  {
   "cell_type": "markdown",
   "metadata": {},
   "source": [
    "Close to the best score so far, but not as good. "
   ]
  },
  {
   "cell_type": "markdown",
   "metadata": {},
   "source": [
    "###AdaBoost Decision Tree"
   ]
  },
  {
   "cell_type": "code",
   "execution_count": 33,
   "metadata": {
    "collapsed": false
   },
   "outputs": [
    {
     "name": "stdout",
     "output_type": "stream",
     "text": [
      "Accuracy Score: 0.854748603352\n"
     ]
    }
   ],
   "source": [
    "pipe = fit_predict(AdaBoostClassifier(), feat_main)"
   ]
  },
  {
   "cell_type": "markdown",
   "metadata": {},
   "source": [
    "The AdaBoost decision tree has the best performance yet at .855. "
   ]
  },
  {
   "cell_type": "markdown",
   "metadata": {},
   "source": [
    "##Limitations"
   ]
  },
  {
   "cell_type": "markdown",
   "metadata": {},
   "source": [
    "###Missing Observations"
   ]
  },
  {
   "cell_type": "markdown",
   "metadata": {},
   "source": [
    "I had 891 observations in my dataset, but there were 2,228 people on board the Titanic, of which 1,343 were passengers. These missing observations would provide a better picture and should improve the performance of my algorithm. "
   ]
  },
  {
   "cell_type": "markdown",
   "metadata": {},
   "source": [
    "###Missing Features"
   ]
  },
  {
   "cell_type": "markdown",
   "metadata": {},
   "source": [
    "Another limitation is where exactly the passengers were located on the Titanic at the time of incident. Third class ticket holders that were located where the ship hit the iceberg would most likely have the poorest chance of survival. If they happened to be on the upper deck at the time of the incident, I would except their chance of survival to increase."
   ]
  },
  {
   "cell_type": "markdown",
   "metadata": {},
   "source": [
    "###Missing Values"
   ]
  },
  {
   "cell_type": "markdown",
   "metadata": {},
   "source": [
    "There were almost 200 passengers that had missing age values. This probably affects the perception of how age affects survival as I imputed the median age (28) for the missing values during the classification process. Many of these passengers may have been children, which would then impact the performance as their survival rates are generally better- holding all other features constant. "
   ]
  },
  {
   "cell_type": "markdown",
   "metadata": {
    "collapsed": false
   },
   "source": [
    "#Summary of Machine Learning Findings"
   ]
  },
  {
   "cell_type": "markdown",
   "metadata": {},
   "source": [
    "I was able to successfully achieve my initial goal of predicting a survival rate with greater than 80% accuracy. The AdaBoost decision tree had an accuracy of .855.  The final features I used were Sex, Pclass, Fare, Age, and SibSp.\n",
    "For future analysis, if I tested more algorithms or performed parameter tuning on the AdaBoost decision tree, I may be able to get a slight increase in performance. "
   ]
  }
 ],
 "metadata": {
  "anaconda-cloud": {},
  "kernelspec": {
   "display_name": "Python [Root]",
   "language": "python",
   "name": "Python [Root]"
  },
  "language_info": {
   "codemirror_mode": {
    "name": "ipython",
    "version": 2
   },
   "file_extension": ".py",
   "mimetype": "text/x-python",
   "name": "python",
   "nbconvert_exporter": "python",
   "pygments_lexer": "ipython2",
   "version": "2.7.12"
  }
 },
 "nbformat": 4,
 "nbformat_minor": 0
}
